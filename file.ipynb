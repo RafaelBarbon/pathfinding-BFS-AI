{
 "cells": [
  {
   "cell_type": "code",
   "execution_count": 34,
   "metadata": {},
   "outputs": [],
   "source": [
    "import pandas as pd\n",
    "import numpy as np\n",
    "np.set_printoptions(threshold=np.inf)\n",
    "from tkinter import Tk\n",
    "from tkinter.filedialog import askopenfilename\n",
    "\n",
    "def OpenFile ():\n",
    "    ftypes = [('Arquivo CSV','*.csv')]\n",
    "    Tk().withdraw()\n",
    "    return askopenfilename(initialdir = \"F:\\Área de Trabalho\\pasta\\PUC\\AI\", filetypes=ftypes)\n",
    "\n",
    "def CoordTest(Coord, rows, columns):\n",
    "    if Coord[0] == -1 or Coord[1] == -1:\n",
    "        print(Coord, \" falta informacao\\n\")\n",
    "        return False\n",
    "    if Coord[0] >= rows or Coord[0] < 0 or Coord[1] >= columns or Coord[1] < 0:\n",
    "        print(Coord, \" invalida\\n\")\n",
    "        return False\n",
    "    return True\n",
    "def MapCheck(map):\n",
    "    for num in map.flatten():\n",
    "        if num <= 0 or num > 4:\n",
    "            print(\"mapa invalido\\n\") \n",
    "            return False\n",
    "    return True"
   ]
  },
  {
   "cell_type": "code",
   "execution_count": 41,
   "metadata": {},
   "outputs": [
    {
     "name": "stdout",
     "output_type": "stream",
     "text": [
      "path: \n",
      " C:/Users/nucle/Downloads/hello_ds_-_Copia/hello_ds - Copia/Mapa2-5x5.csv\n",
      "\n",
      "pos inicial:\n",
      "  [1, 1]\n",
      "\n",
      "pos final:\n",
      "  [3, 2]\n",
      "\n",
      "mapa:\n",
      "  [[1 2 2 1 1]\n",
      " [1 2 3 1 1]\n",
      " [3 3 2 1 1]\n",
      " [1 1 1 1 4]\n",
      " [4 4 4 4 1]]\n"
     ]
    }
   ],
   "source": [
    "while True:\n",
    "    path = OpenFile()\n",
    "    if path == '':\n",
    "        break\n",
    "    print(\"path: \\n\", path)\n",
    "    matriz = pd.read_csv(path, header = None).fillna(-1).to_numpy(dtype=int)\n",
    "    inicial = [matriz[0][0], matriz[0][1]]\n",
    "    final = [matriz[1][0], matriz[1][1]]\n",
    "    mapa = np.delete(matriz,[0,1],0)\n",
    "    rows, columns = mapa.shape\n",
    "    if CoordTest(inicial, rows, columns) == True and CoordTest(final,rows,columns) == True and MapCheck(mapa) == True:\n",
    "        print(\"\\npos inicial:\\n \", inicial) \n",
    "        print(\"\\npos final:\\n \", final)\n",
    "        print(\"\\nmapa:\\n \", mapa)\n",
    "        break\n",
    " \n"
   ]
  }
 ],
 "metadata": {
  "interpreter": {
   "hash": "010b54f1825be09c18f412b79948692e03fb8efcbd4915706a1d6aa8fb5f9e13"
  },
  "kernelspec": {
   "display_name": "Python 3.9.7 64-bit ('base': conda)",
   "language": "python",
   "name": "python3"
  },
  "language_info": {
   "codemirror_mode": {
    "name": "ipython",
    "version": 3
   },
   "file_extension": ".py",
   "mimetype": "text/x-python",
   "name": "python",
   "nbconvert_exporter": "python",
   "pygments_lexer": "ipython3",
   "version": "3.9.7"
  },
  "orig_nbformat": 4
 },
 "nbformat": 4,
 "nbformat_minor": 2
}
